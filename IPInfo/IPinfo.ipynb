{
 "cells": [
  {
   "cell_type": "code",
   "execution_count": 19,
   "metadata": {},
   "outputs": [],
   "source": [
    "import requests\n",
    "import json\n",
    "import pandas as pd\n",
    "from ipyleaflet import Map, basemaps, basemap_to_tiles, CircleMarker"
   ]
  },
  {
   "cell_type": "code",
   "execution_count": 40,
   "metadata": {},
   "outputs": [
    {
     "data": {
      "application/vnd.jupyter.widget-view+json": {
       "model_id": "0b27cb488961434e963a125646f4f506",
       "version_major": 2,
       "version_minor": 0
      },
      "text/plain": [
       "Map(center=['41.8795', '-87.8137'], controls=(ZoomControl(options=['position', 'zoom_in_text', 'zoom_in_title'…"
      ]
     },
     "metadata": {},
     "output_type": "display_data"
    }
   ],
   "source": [
    "center = (location.split(\",\"))\n",
    "m = Map(basemap=basemaps.OpenStreetMap.BlackAndWhite, center=center, zoom=10)\n",
    "circle_marker = CircleMarker()\n",
    "circle_marker.location = (center)\n",
    "circle_marker.radius = 5\n",
    "circle_marker.color = \"red\"\n",
    "circle_marker.fill_color = \"red\"\n",
    "m.add_layer(circle_marker)\n",
    "m"
   ]
  }
 ],
 "metadata": {
  "interpreter": {
   "hash": "aee8b7b246df8f9039afb4144a1f6fd8d2ca17a180786b69acc140d282b71a49"
  },
  "kernelspec": {
   "display_name": "Python 3.9.7 64-bit",
   "name": "python3"
  },
  "language_info": {
   "codemirror_mode": {
    "name": "ipython",
    "version": 3
   },
   "file_extension": ".py",
   "mimetype": "text/x-python",
   "name": "python",
   "nbconvert_exporter": "python",
   "pygments_lexer": "ipython3",
   "version": "3.9.7"
  },
  "orig_nbformat": 4
 },
 "nbformat": 4,
 "nbformat_minor": 2
}
