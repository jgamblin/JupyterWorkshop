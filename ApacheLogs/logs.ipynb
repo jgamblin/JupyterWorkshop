{
 "cells": [
  {
   "cell_type": "code",
   "execution_count": 2,
   "metadata": {},
   "outputs": [
    {
     "name": "stdout",
     "output_type": "stream",
     "text": [
      "--2021-10-27 17:46:16--  http://www.almhuette-raith.at/apache-log/access.log\n",
      "Resolving www.almhuette-raith.at (www.almhuette-raith.at)... 91.143.107.26\n",
      "Connecting to www.almhuette-raith.at (www.almhuette-raith.at)|91.143.107.26|:80... connected.\n",
      "HTTP request sent, awaiting response... \n",
      "  HTTP/1.1 200 OK\n",
      "  Date: Wed, 27 Oct 2021 22:46:16 GMT\n",
      "  Server: Apache/1.3.34 (Debian) mod_perl/1.29\n",
      "  Last-Modified: Wed, 27 Oct 2021 22:45:02 GMT\n",
      "  ETag: \"32a07ca-760e0d7-6179d66e\"\n",
      "  Accept-Ranges: bytes\n",
      "  Content-Length: 123789527\n",
      "  Keep-Alive: timeout=2, max=100\n",
      "  Connection: Keep-Alive\n",
      "  Content-Type: text/plain; charset=iso-8859-1\n",
      "Length: 123789527 (118M) [text/plain]\n",
      "Saving to: ‘access.log’\n",
      "\n",
      "access.log          100%[===================>] 118.05M  2.35MB/s    in 59s     \n",
      "\n",
      "2021-10-27 17:47:15 (2.00 MB/s) - ‘access.log’ saved [123789527/123789527]\n",
      "\n"
     ]
    }
   ],
   "source": [
    "# Grab Public Apache access log\n",
    "! wget http://www.almhuette-raith.at/apache-log/access.log"
   ]
  },
  {
   "cell_type": "code",
   "execution_count": 32,
   "metadata": {},
   "outputs": [],
   "source": [
    "import pandas as pd\n",
    "import matplotlib.pyplot as plt\n",
    "\n"
   ]
  },
  {
   "cell_type": "code",
   "execution_count": 4,
   "metadata": {},
   "outputs": [],
   "source": [
    "df = pd.read_csv('access.log',\n",
    "              sep=r'\\s(?=(?:[^\"]*\"[^\"]*\")*[^\"]*$)(?![^\\[]*\\])',\n",
    "              engine='python',\n",
    "              usecols=[0, 3, 4, 5, 6, 7, 8],\n",
    "              names=['ip', 'time', 'request', 'status', 'size', 'referer', 'user_agent'],\n",
    "              na_values='-',\n",
    "              header=None\n",
    "                )\n"
   ]
  },
  {
   "cell_type": "code",
   "execution_count": 5,
   "metadata": {},
   "outputs": [
    {
     "data": {
      "text/plain": [
       "193.106.31.130    340874\n",
       "197.52.128.37      40777\n",
       "37.239.22.2        16101\n",
       "45.133.1.60         7514\n",
       "173.255.176.5       5220\n",
       "Name: ip, dtype: int64"
      ]
     },
     "execution_count": 5,
     "metadata": {},
     "output_type": "execute_result"
    }
   ],
   "source": [
    "df.ip.value_counts().head(5)"
   ]
  },
  {
   "cell_type": "code",
   "execution_count": 7,
   "metadata": {},
   "outputs": [
    {
     "data": {
      "text/plain": [
       "200    521309\n",
       "206     64245\n",
       "404     45392\n",
       "303      4505\n",
       "301      1278\n",
       "Name: status, dtype: int64"
      ]
     },
     "execution_count": 7,
     "metadata": {},
     "output_type": "execute_result"
    }
   ],
   "source": [
    "df.status.value_counts().head(5)"
   ]
  },
  {
   "cell_type": "code",
   "execution_count": 8,
   "metadata": {},
   "outputs": [
    {
     "data": {
      "text/plain": [
       "\"Mozilla/4.0 (compatible; MSIE 7.0; Windows NT 6.0)\"                                                                        340874\n",
       "\"Mozilla/5.0 (Windows NT 6.1; Trident/7.0; rv:11.0) like Gecko\"                                                              42613\n",
       "\"Mozilla/4.0 (compatible; MSIE 8.0; Windows NT 6.0)\"                                                                         16086\n",
       "\"Mozilla/5.0 (Windows NT 6.1) AppleWebKit/537.36 (KHTML, like Gecko) Chrome/45.0.2454.85 Safari/537.36 OPR/32.0.1948.45\"      8756\n",
       "\"Mozilla/5.0 (X11; Ubuntu; Linux i686; rv:28.0) Gecko/20100101 Firefox/28.0\"                                                  7812\n",
       "Name: user_agent, dtype: int64"
      ]
     },
     "execution_count": 8,
     "metadata": {},
     "output_type": "execute_result"
    }
   ],
   "source": [
    "df.user_agent.value_counts().head(5)"
   ]
  },
  {
   "cell_type": "code",
   "execution_count": 9,
   "metadata": {},
   "outputs": [
    {
     "data": {
      "text/plain": [
       "\"-\"                                            472933\n",
       "\"http://www.almhuette-raith.at/apache-log/\"     61526\n",
       "\"http://www.almhuette-raith.at/\"                31447\n",
       "\"http://www.almhuette-raith.at\"                 15806\n",
       "\"http://almhuette-raith.at/\"                    11031\n",
       "Name: referer, dtype: int64"
      ]
     },
     "execution_count": 9,
     "metadata": {},
     "output_type": "execute_result"
    }
   ],
   "source": [
    "df.referer.value_counts().head(5)"
   ]
  },
  {
   "cell_type": "code",
   "execution_count": 10,
   "metadata": {},
   "outputs": [
    {
     "data": {
      "text/plain": [
       "\"POST /administrator/index.php HTTP/1.0\"                          344882\n",
       "\"GET /apache-log/access.log HTTP/1.1\"                              86152\n",
       "\"GET /administrator/index.php HTTP/1.1\"                            15652\n",
       "\"GET / HTTP/1.1\"                                                   14148\n",
       "\"GET /index.php?option=com_contact&view=contact&id=1 HTTP/1.1\"     11251\n",
       "Name: request, dtype: int64"
      ]
     },
     "execution_count": 10,
     "metadata": {},
     "output_type": "execute_result"
    }
   ],
   "source": [
    "df.request.value_counts().head(5)"
   ]
  },
  {
   "cell_type": "code",
   "execution_count": 36,
   "metadata": {},
   "outputs": [
    {
     "data": {
      "image/png": "[encoded data removed]",
      "text/plain": [
       "<Figure size 432x288 with 1 Axes>"
      ]
     },
     "metadata": {
      "needs_background": "light"
     },
     "output_type": "display_data"
    }
   ],
   "source": [
    "top_ip_count = df.ip.value_counts().head(5)\n",
    "top_ip_count.plot(kind=\"barh\", colormap=\"tab20c\")\n",
    "plt.title(\"Top IP Address\")\n",
    "plt.xlabel(\"Hits\")\n",
    "plt.ylabel(\"IP\")\n",
    "plt.show()"
   ]
  },
  {
   "cell_type": "code",
   "execution_count": 37,
   "metadata": {},
   "outputs": [
    {
     "data": {
      "image/png": "[encoded data removed]",
      "text/plain": [
       "<Figure size 432x288 with 1 Axes>"
      ]
     },
     "metadata": {
      "needs_background": "light"
     },
     "output_type": "display_data"
    }
   ],
   "source": [
    "top_status_count = df.status.value_counts().head(5)\n",
    "top_status_count.plot(kind=\"barh\", colormap=\"tab20c\")\n",
    "plt.title(\"Top Status\")\n",
    "plt.xlabel(\"Hits\")\n",
    "plt.ylabel(\"Status\")\n",
    "plt.show()"
   ]
  }
 ],
 "metadata": {
  "interpreter": {
   "hash": "aee8b7b246df8f9039afb4144a1f6fd8d2ca17a180786b69acc140d282b71a49"
  },
  "kernelspec": {
   "display_name": "Python 3.9.7 64-bit",
   "name": "python3"
  },
  "language_info": {
   "codemirror_mode": {
    "name": "ipython",
    "version": 3
   },
   "file_extension": ".py",
   "mimetype": "text/x-python",
   "name": "python",
   "nbconvert_exporter": "python",
   "pygments_lexer": "ipython3",
   "version": "3.9.7"
  },
  "orig_nbformat": 4
 },
 "nbformat": 4,
 "nbformat_minor": 2
}
