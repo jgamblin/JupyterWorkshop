{
 "cells": [
  {
   "cell_type": "markdown",
   "metadata": {},
   "source": [
    "# Apache Logs "
   ]
  },
  {
   "cell_type": "markdown",
   "metadata": {},
   "source": [
    "### Grab Logs"
   ]
  },
  {
   "cell_type": "code",
   "execution_count": 11,
   "metadata": {},
   "outputs": [
    {
     "name": "stdout",
     "output_type": "stream",
     "text": [
      "--2021-11-12 10:30:58--  http://www.almhuette-raith.at/apache-log/access.log\n",
      "Resolving www.almhuette-raith.at (www.almhuette-raith.at)... 91.143.107.26\n",
      "Connecting to www.almhuette-raith.at (www.almhuette-raith.at)|91.143.107.26|:80... connected.\n",
      "HTTP request sent, awaiting response... \n",
      "  HTTP/1.1 200 OK\n",
      "  Date: Fri, 12 Nov 2021 10:30:58 GMT\n",
      "  Server: Apache/1.3.34 (Debian) mod_perl/1.29\n",
      "  Last-Modified: Fri, 12 Nov 2021 10:25:33 GMT\n",
      "  ETag: \"32a07ca-77b789c-618e411d\"\n",
      "  Accept-Ranges: bytes\n",
      "  Content-Length: 125532316\n",
      "  Keep-Alive: timeout=2, max=100\n",
      "  Connection: Keep-Alive\n",
      "  Content-Type: text/plain; charset=iso-8859-1\n",
      "Length: 125532316 (120M) [text/plain]\n",
      "Saving to: ‘access.log’\n",
      "\n",
      "access.log          100%[===================>] 119.72M  3.85MB/s    in 35s     \n",
      "\n",
      "2021-11-12 10:31:33 (3.42 MB/s) - ‘access.log’ saved [125532316/125532316]\n",
      "\n"
     ]
    }
   ],
   "source": [
    "# Grab Public Apache access log\n",
    "! wget http://www.almhuette-raith.at/apache-log/access.log"
   ]
  },
  {
   "cell_type": "markdown",
   "metadata": {},
   "source": [
    "### Import Libraries"
   ]
  },
  {
   "cell_type": "code",
   "execution_count": 12,
   "metadata": {},
   "outputs": [],
   "source": [
    "import pandas as pd\n",
    "import matplotlib.pyplot as plt\n",
    "\n"
   ]
  },
  {
   "cell_type": "markdown",
   "metadata": {},
   "source": [
    "### Parse Logs"
   ]
  },
  {
   "cell_type": "code",
   "execution_count": 13,
   "metadata": {},
   "outputs": [],
   "source": [
    "df = pd.read_csv('access.log',\n",
    "              sep=r'\\s(?=(?:[^\"]*\"[^\"]*\")*[^\"]*$)(?![^\\[]*\\])',\n",
    "              engine='python',\n",
    "              usecols=[0, 3, 4, 5, 6, 7, 8],\n",
    "              names=['ip', 'time', 'request', 'status', 'size', 'referer', 'user_agent'],\n",
    "              na_values='-',\n",
    "              header=None\n",
    "                )\n"
   ]
  },
  {
   "cell_type": "markdown",
   "metadata": {},
   "source": [
    "### Top 5 IPs"
   ]
  },
  {
   "cell_type": "code",
   "execution_count": 14,
   "metadata": {},
   "outputs": [
    {
     "data": {
      "text/plain": [
       "193.106.31.130    340874\n",
       "197.52.128.37      40777\n",
       "37.239.22.2        16101\n",
       "45.133.1.60         7514\n",
       "173.255.176.5       5220\n",
       "Name: ip, dtype: int64"
      ]
     },
     "execution_count": 14,
     "metadata": {},
     "output_type": "execute_result"
    }
   ],
   "source": [
    "df.ip.value_counts().head(5)"
   ]
  },
  {
   "cell_type": "markdown",
   "metadata": {},
   "source": [
    "### Top 5 Status Codes"
   ]
  },
  {
   "cell_type": "code",
   "execution_count": 15,
   "metadata": {},
   "outputs": [
    {
     "data": {
      "text/plain": [
       "200    526735\n",
       "206     64303\n",
       "404     46977\n",
       "303      4505\n",
       "301      1290\n",
       "Name: status, dtype: int64"
      ]
     },
     "execution_count": 15,
     "metadata": {},
     "output_type": "execute_result"
    }
   ],
   "source": [
    "df.status.value_counts().head(5)"
   ]
  },
  {
   "cell_type": "markdown",
   "metadata": {},
   "source": [
    "### Top 5 User Agents"
   ]
  },
  {
   "cell_type": "code",
   "execution_count": 16,
   "metadata": {},
   "outputs": [
    {
     "data": {
      "text/plain": [
       "\"Mozilla/4.0 (compatible; MSIE 7.0; Windows NT 6.0)\"                                                                        340874\n",
       "\"Mozilla/5.0 (Windows NT 6.1; Trident/7.0; rv:11.0) like Gecko\"                                                              42614\n",
       "\"Mozilla/4.0 (compatible; MSIE 8.0; Windows NT 6.0)\"                                                                         16086\n",
       "\"Mozilla/5.0 (Windows NT 6.1) AppleWebKit/537.36 (KHTML, like Gecko) Chrome/45.0.2454.85 Safari/537.36 OPR/32.0.1948.45\"      9235\n",
       "\"Mozilla/5.0 (X11; Ubuntu; Linux i686; rv:28.0) Gecko/20100101 Firefox/28.0\"                                                  7823\n",
       "Name: user_agent, dtype: int64"
      ]
     },
     "execution_count": 16,
     "metadata": {},
     "output_type": "execute_result"
    }
   ],
   "source": [
    "df.user_agent.value_counts().head(5)"
   ]
  },
  {
   "cell_type": "markdown",
   "metadata": {},
   "source": [
    "### Top 5 Referers"
   ]
  },
  {
   "cell_type": "code",
   "execution_count": 17,
   "metadata": {},
   "outputs": [
    {
     "data": {
      "text/plain": [
       "\"-\"                                            476021\n",
       "\"http://www.almhuette-raith.at/apache-log/\"     61624\n",
       "\"http://www.almhuette-raith.at/\"                32892\n",
       "\"http://www.almhuette-raith.at\"                 16096\n",
       "\"http://almhuette-raith.at/\"                    11509\n",
       "Name: referer, dtype: int64"
      ]
     },
     "execution_count": 17,
     "metadata": {},
     "output_type": "execute_result"
    }
   ],
   "source": [
    "df.referer.value_counts().head(5)"
   ]
  },
  {
   "cell_type": "markdown",
   "metadata": {},
   "source": [
    "### Top 5 URIs"
   ]
  },
  {
   "cell_type": "code",
   "execution_count": 18,
   "metadata": {},
   "outputs": [
    {
     "data": {
      "text/plain": [
       "\"POST /administrator/index.php HTTP/1.0\"                          345121\n",
       "\"GET /apache-log/access.log HTTP/1.1\"                              87070\n",
       "\"GET /administrator/index.php HTTP/1.1\"                            16012\n",
       "\"GET / HTTP/1.1\"                                                   14726\n",
       "\"GET /index.php?option=com_contact&view=contact&id=1 HTTP/1.1\"     11251\n",
       "Name: request, dtype: int64"
      ]
     },
     "execution_count": 18,
     "metadata": {},
     "output_type": "execute_result"
    }
   ],
   "source": [
    "df.request.value_counts().head(5)"
   ]
  },
  {
   "cell_type": "markdown",
   "metadata": {},
   "source": [
    "### Graph Top IP Address"
   ]
  },
  {
   "cell_type": "code",
   "execution_count": 19,
   "metadata": {},
   "outputs": [
    {
     "data": {
      "image/png": "[encoded data removed]",
      "text/plain": [
       "<Figure size 432x288 with 1 Axes>"
      ]
     },
     "metadata": {
      "needs_background": "light"
     },
     "output_type": "display_data"
    }
   ],
   "source": [
    "top_ip_count = df.ip.value_counts().head(5)\n",
    "top_ip_count.plot(kind=\"barh\", colormap=\"tab20c\")\n",
    "plt.title(\"Top IP Address\")\n",
    "plt.xlabel(\"Hits\")\n",
    "plt.ylabel(\"IP\")\n",
    "plt.show()"
   ]
  },
  {
   "cell_type": "markdown",
   "metadata": {},
   "source": [
    "### Graph Top Status"
   ]
  },
  {
   "cell_type": "code",
   "execution_count": 20,
   "metadata": {},
   "outputs": [
    {
     "data": {
      "image/png": "[encoded data removed]",
      "text/plain": [
       "<Figure size 432x288 with 1 Axes>"
      ]
     },
     "metadata": {
      "needs_background": "light"
     },
     "output_type": "display_data"
    }
   ],
   "source": [
    "top_status_count = df.status.value_counts().head(5)\n",
    "top_status_count.plot(kind=\"barh\", colormap=\"tab20c\")\n",
    "plt.title(\"Top Status\")\n",
    "plt.xlabel(\"Hits\")\n",
    "plt.ylabel(\"Status\")\n",
    "plt.show()"
   ]
  }
 ],
 "metadata": {
  "interpreter": {
   "hash": "aee8b7b246df8f9039afb4144a1f6fd8d2ca17a180786b69acc140d282b71a49"
  },
  "kernelspec": {
   "display_name": "Python 3.9.7 64-bit",
   "name": "python3"
  },
  "language_info": {
   "codemirror_mode": {
    "name": "ipython",
    "version": 3
   },
   "file_extension": ".py",
   "mimetype": "text/x-python",
   "name": "python",
   "nbconvert_exporter": "python",
   "pygments_lexer": "ipython3",
   "version": "3.9.7"
  },
  "orig_nbformat": 4
 },
 "nbformat": 4,
 "nbformat_minor": 2
}
